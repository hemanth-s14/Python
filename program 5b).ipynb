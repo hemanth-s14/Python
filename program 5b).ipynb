{
 "cells": [
  {
   "cell_type": "code",
   "execution_count": null,
   "metadata": {},
   "outputs": [],
   "source": [
    "import re\n",
    "# Define the regular expression for phone numbers\n",
    "phone_regex = re.compile(r'\\+\\d{12}')\n",
    "email_regex = re.compile(r'[A-Za-z0-9._]+@[A-Za-z0-9]+\\.[A-Z|a-z]{2,}')\n",
    "# Open the file for reading\n",
    "with open('example.txt', 'r') as f:\n",
    " # Loop through each line in the file\n",
    " for line in f:\n",
    " # Search for phone numbers in the line\n",
    " matches = phone_regex.findall(line)\n",
    " # Print any matches found\n",
    " for match in matches:\n",
    "  print(match)\n",
    " matches = email_regex.findall(line)\n",
    " # Print any matches found\n",
    " for match in matches:\n",
    "  print(match)\n"
   ]
  }
 ],
 "metadata": {
  "language_info": {
   "name": "python"
  },
  "orig_nbformat": 4
 },
 "nbformat": 4,
 "nbformat_minor": 2
}
